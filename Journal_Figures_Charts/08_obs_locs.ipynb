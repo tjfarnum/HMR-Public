{
 "cells": [
  {
   "cell_type": "code",
   "execution_count": null,
   "id": "103dc788-d252-4c02-befd-0cd5f9e3e14d",
   "metadata": {},
   "outputs": [],
   "source": [
    "import os\n",
    "import matplotlib\n",
    "import matplotlib.pyplot as plt\n",
    "import pandas as pd\n",
    "import geopandas as gpd\n",
    "import numpy as np\n",
    "import branca\n",
    "import warnings\n",
    "from pathlib import Path\n",
    "import flopy\n",
    "from matplotlib.lines import Line2D\n",
    "warnings.filterwarnings(action='ignore')"
   ]
  },
  {
   "cell_type": "code",
   "execution_count": null,
   "id": "327a4489-9b52-4848-bc54-31270d66f1a2",
   "metadata": {},
   "outputs": [],
   "source": [
    "cwd = os.getcwd()\n",
    "base_model_dir = Path('../Base_Model_for_Scenarios').resolve()\n",
    "obs_locs_dir =  Path('../Locations/Obs_locs').resolve()\n",
    "refined_truth_dir = Path('../Refined_Truth_Model/Modflow_Input_Files').resolve()\n",
    "base_modelgrid_dir =  Path('../Locations/Base_Model_Grid').resolve()\n",
    "print(cwd)\n",
    "print(base_model_dir)\n",
    "print(obs_locs_dir)\n",
    "print(refined_truth_dir)\n",
    "print(base_modelgrid_dir)"
   ]
  },
  {
   "cell_type": "code",
   "execution_count": null,
   "id": "916fe51f-38e7-418f-968d-2b33172fcf0c",
   "metadata": {},
   "outputs": [],
   "source": [
    "# Get truth observed locations and heads\n",
    "obs_locsR25 =  pd.read_csv(obs_locs_dir / 'R25.csv')\n",
    "obs_locsR100 = pd.read_csv(obs_locs_dir / 'R100.csv')\n",
    "obs_locsC25 = pd.read_csv(obs_locs_dir / 'C25.csv')\n",
    "obs_locsC100 = pd.read_csv(obs_locs_dir / 'C100.csv')"
   ]
  },
  {
   "cell_type": "code",
   "execution_count": null,
   "id": "2d744903-bff1-402d-a545-69041e0ad248",
   "metadata": {},
   "outputs": [],
   "source": [
    "obs_locsR25 = gpd.GeoDataFrame(obs_locsR25, geometry=gpd.points_from_xy(obs_locsR25.x, obs_locsR25.y))\n",
    "obs_locsR100 = gpd.GeoDataFrame(obs_locsR100, geometry=gpd.points_from_xy(obs_locsR100.x, obs_locsR100.y))\n",
    "obs_locsC25 = gpd.GeoDataFrame(obs_locsC25, geometry=gpd.points_from_xy(obs_locsC25.x, obs_locsC25.y))\n",
    "obs_locsC100 = gpd.GeoDataFrame(obs_locsC100, geometry=gpd.points_from_xy(obs_locsC100.x, obs_locsC100.y))"
   ]
  },
  {
   "cell_type": "code",
   "execution_count": null,
   "id": "4bac862b-bae0-4e41-909f-62c25aed4c38",
   "metadata": {},
   "outputs": [],
   "source": [
    "# Get model_root_name from listing file\n",
    "for file in os.listdir(base_model_dir):\n",
    "    if file.endswith(\".dis\"):\n",
    "        disfile = file\n",
    "gwfmodel_root_name = os.path.splitext(disfile)[0]\n",
    "print(gwfmodel_root_name)\n",
    "\n",
    "# Load model\n",
    "sim = flopy.mf6.MFSimulation.load(f'{gwfmodel_root_name}', sim_ws=base_model_dir, exe_name='mf6.exe')\n",
    "model = sim.get_model(f'{gwfmodel_root_name}')"
   ]
  },
  {
   "cell_type": "code",
   "execution_count": null,
   "id": "e6ebbb83-afad-44b2-9f5d-323e2a2cf9e2",
   "metadata": {
    "scrolled": true
   },
   "outputs": [],
   "source": [
    "# Get true capture\n",
    "true_cap = gpd.read_file(os.path.join(refined_truth_dir,'true_cap.shp'), engine='pyogrio')\n",
    "# dissolve to just a few polygons\n",
    "true_cap = true_cap.dissolve().explode()"
   ]
  },
  {
   "cell_type": "code",
   "execution_count": null,
   "id": "ea843817-a354-4612-9048-fdca020d58e9",
   "metadata": {},
   "outputs": [],
   "source": [
    "# Get Riv polyline and GHB Line\n",
    "rivline = gpd.read_file(os.path.join(base_modelgrid_dir,'river_polyline.shp'), engine='pyogrio')\n",
    "ghbline = gpd.read_file(os.path.join(base_modelgrid_dir,'ghb_line.shp'), engine='pyogrio')"
   ]
  },
  {
   "cell_type": "code",
   "execution_count": null,
   "id": "d2624b1f-f7f8-4530-870d-9aa3edbefddf",
   "metadata": {},
   "outputs": [],
   "source": [
    "# Get well loc dots\n",
    "well_locs = gpd.read_file(os.path.join(base_modelgrid_dir, 'Wells_locs.shp'), engine='pyogrio')"
   ]
  },
  {
   "cell_type": "code",
   "execution_count": null,
   "id": "d70ec085-addb-489b-999e-bf5b330e8635",
   "metadata": {},
   "outputs": [],
   "source": [
    "# Get truth heads\n",
    "truth_heads_contours = gpd.read_file(os.path.join(base_modelgrid_dir, 'heads1.shp'), engine='pyogrio')"
   ]
  },
  {
   "cell_type": "code",
   "execution_count": null,
   "id": "f5e17ab6-5b41-4046-a758-a0158b4e8e64",
   "metadata": {},
   "outputs": [],
   "source": [
    "# legend items\n",
    "obswell_dot = Line2D([],[], color='navy', marker='o', markeredgecolor='none', linestyle='none', markersize=6, label='Observation Location')\n",
    "pumpingwell_dot = Line2D([],[], color='aqua', marker='o', markeredgecolor='none', linestyle='none', markersize=6, label='Pumping Location')\n",
    "sim_contours_line =  Line2D([0],[0], color='gray', marker='none', linestyle='dotted', linewidth=2, label='Truth Potentiometric Surface')\n",
    "riv_line =  Line2D([0],[0], color='green', marker='none', linewidth=3, label='River')\n",
    "ghb_line =  Line2D([0],[0], color='m', marker='none', linewidth=3, label='General Head Boundary')\n",
    "true_cap_line =  Line2D([0],[0], color='red', marker='none', linewidth=3, label='Truth Capture')\n",
    "\n",
    "LegendElement = [obswell_dot, pumpingwell_dot, sim_contours_line, riv_line, ghb_line, true_cap_line]"
   ]
  },
  {
   "cell_type": "code",
   "execution_count": null,
   "id": "0e89d91d-2c31-4a61-8fc6-ea6d87bdee24",
   "metadata": {},
   "outputs": [],
   "source": [
    "fig = plt.figure(figsize=(8,4))\n",
    "plt.rcParams['font.family'] = 'Calibri'\n",
    "ax1 = plt.subplot2grid((7,15), (0,0), rowspan=5, colspan=3) # (subplot grid, num rows, num cols), (start row, start col)\n",
    "ax2 = plt.subplot2grid((7,15), (0,3), rowspan=5, colspan=3)\n",
    "ax3 = plt.subplot2grid((7,15), (0,6), rowspan=5, colspan=3)\n",
    "ax4 = plt.subplot2grid((7,15), (0,9), rowspan=5, colspan=3)\n",
    "axleg = plt.subplot2grid((7,15),(5,0), rowspan=1, colspan=12)\n",
    "\n",
    "# ax1\n",
    "ax1.set_xticks([])\n",
    "ax1.set_yticks([])\n",
    "mapview = flopy.plot.PlotMapView(model, ax=ax1)\n",
    "quadmesh = mapview.plot_ibound()\n",
    "#wel = mapview.plot_bc(\"WEL\", color='red')\n",
    "#rivs = mapview.plot_bc(\"RIV\", plotAll=True, color=\"green\")\n",
    "#ghbs = mapview.plot_bc(\"GHB\", plotAll=True, color=\"purple\")\n",
    "rivline.plot(ax=ax1, color='green')\n",
    "ghbline.plot(ax=ax1, color='m')\n",
    "obs_locsR25.plot(ax=ax1, markersize=5, color='navy', zorder=10)\n",
    "well_locs.plot(ax=ax1, markersize=5, color='aqua', zorder=10)\n",
    "true_cap.boundary.plot(ax=ax1, edgecolor='red', zorder=1)\n",
    "truth_heads_contours.plot(ax=ax1, colors='gray', linestyles='dotted', linewidths=1)\n",
    "\n",
    "# ax2\n",
    "ax2.set_xticks([])\n",
    "ax2.set_yticks([])\n",
    "mapview = flopy.plot.PlotMapView(model, ax=ax2)\n",
    "quadmesh = mapview.plot_ibound()\n",
    "wel = mapview.plot_bc(\"WEL\", color='red')\n",
    "rivline.plot(ax=ax2, color='green')\n",
    "ghbline.plot(ax=ax2, color='m')\n",
    "obs_locsR100.plot(ax=ax2, markersize=5, color='navy', zorder=10)\n",
    "well_locs.plot(ax=ax2, markersize=5, color='aqua', zorder=10)\n",
    "true_cap.boundary.plot(ax=ax2, edgecolor='red', zorder=1)\n",
    "truth_heads_contours.plot(ax=ax2, colors='gray', linestyles='dotted', linewidths=1)\n",
    "\n",
    "# ax3\n",
    "ax3.set_xticks([])\n",
    "ax3.set_yticks([])\n",
    "mapview = flopy.plot.PlotMapView(model, ax=ax3)\n",
    "quadmesh = mapview.plot_ibound()\n",
    "wel = mapview.plot_bc(\"WEL\", color='red')\n",
    "rivline.plot(ax=ax3, color='green')\n",
    "ghbline.plot(ax=ax3, color='m')\n",
    "obs_locsC25.plot(ax=ax3, markersize=5, color='navy', zorder=10)\n",
    "well_locs.plot(ax=ax3, markersize=5, color='aqua', zorder=10)\n",
    "true_cap.boundary.plot(ax=ax3, edgecolor='red', zorder=1)\n",
    "truth_heads_contours.plot(ax=ax3, colors='gray', linestyles='dotted', linewidths=1)\n",
    "\n",
    "# ax4\n",
    "ax4.set_xticks([])\n",
    "ax4.set_yticks([])\n",
    "mapview = flopy.plot.PlotMapView(model, ax=ax4)\n",
    "quadmesh = mapview.plot_ibound()\n",
    "wel = mapview.plot_bc(\"WEL\", color='red')\n",
    "rivline.plot(ax=ax4, color='green')\n",
    "ghbline.plot(ax=ax4, color='m')\n",
    "obs_locsC100.plot(ax=ax4, markersize=5, color='navy', zorder=10)\n",
    "well_locs.plot(ax=ax4, markersize=5, color='aqua', zorder=10)\n",
    "true_cap.boundary.plot(ax=ax4, edgecolor='red', zorder=1)\n",
    "truth_heads_contours.plot(ax=ax4, colors='gray', linestyles='dotted', linewidths=1)\n",
    "\n",
    "# axleg\n",
    "axleg.axis('off')\n",
    "axleg.legend(handles=LegendElement, frameon=False, ncol=3, prop= {'size':8, 'family':'calibri'}) \n",
    "\n",
    "plt.gcf().text(0.15, 0.885, 'Random 25', fontsize=12)\n",
    "plt.gcf().text(0.3, 0.885, 'Random 100', fontsize=12)\n",
    "plt.gcf().text(0.46, 0.885, 'Clustered 25', fontsize=12)\n",
    "plt.gcf().text(0.61, 0.885, 'Clustered 100', fontsize=12)\n",
    "\n",
    "fig.savefig('Figure1.png', bbox_inches='tight', dpi=300)"
   ]
  },
  {
   "cell_type": "code",
   "execution_count": null,
   "id": "99df185d-495c-42e3-afae-5202fa80d604",
   "metadata": {},
   "outputs": [],
   "source": []
  }
 ],
 "metadata": {
  "kernelspec": {
   "display_name": "Python 3 (ipykernel)",
   "language": "python",
   "name": "python3"
  },
  "language_info": {
   "codemirror_mode": {
    "name": "ipython",
    "version": 3
   },
   "file_extension": ".py",
   "mimetype": "text/x-python",
   "name": "python",
   "nbconvert_exporter": "python",
   "pygments_lexer": "ipython3",
   "version": "3.13.1"
  }
 },
 "nbformat": 4,
 "nbformat_minor": 5
}
